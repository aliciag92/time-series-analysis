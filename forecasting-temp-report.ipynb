{
 "cells": [
  {
   "cell_type": "markdown",
   "metadata": {},
   "source": [
    "# Project Description and Goals\n",
    "\n",
    "Insert brief description\n",
    "\n",
    "### Objectives for this project include:\n",
    "- Identifying ____.\n",
    "- Documenting process and analysis throughout the data science pipeline.\n",
    "- Demonstrating the information that was discovered.\n",
    "- Deliverables:\n",
    "    - [README.md](insert link) file containing overall project information, how to reproduce work, and notes from project planning.\n",
    "    - Jupyter Notebook Report detailing the pipeline process.\n",
    "    - Python module that automates the data [wrangling](insert link).\n",
    "\n",
    "### Pipeline Process:\n",
    "1. Acquire\n",
    "2. Prepare\n",
    "3. Explore\n",
    "4. Model/Evaluate\n",
    "5. Deliver\n",
    "\n",
    "### Initial hypotheses\n",
    "- Does vote count or vote average affect movie revenue?\n",
    "- Do higher budget films bring more revenue?\n",
    "- Do more popular movies bring in more revenue?\n",
    "\n",
    "\n",
    "### Project Imports\n",
    "\n",
    "\n",
    "# Data Acquisition\n",
    "\n",
    "### Findings\n",
    "\n",
    "# Data Preparation\n",
    "\n",
    "# Data Exploration\n",
    "\n",
    "# Data Modeling / Evaluation\n",
    "\n",
    "# Conclusion"
   ]
  },
  {
   "cell_type": "code",
   "execution_count": null,
   "metadata": {},
   "outputs": [],
   "source": []
  }
 ],
 "metadata": {
  "kernelspec": {
   "display_name": "Python 3",
   "language": "python",
   "name": "python3"
  },
  "language_info": {
   "codemirror_mode": {
    "name": "ipython",
    "version": 3
   },
   "file_extension": ".py",
   "mimetype": "text/x-python",
   "name": "python",
   "nbconvert_exporter": "python",
   "pygments_lexer": "ipython3",
   "version": "3.8.5"
  }
 },
 "nbformat": 4,
 "nbformat_minor": 4
}
